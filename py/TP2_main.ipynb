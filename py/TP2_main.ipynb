{
  "cells": [
    {
      "cell_type": "code",
      "execution_count": null,
      "metadata": {
        "id": "Y6L9PBqww4Yi"
      },
      "outputs": [],
      "source": [
        "import numpy as np\n",
        "import matplotlib.pyplot as plt\n",
        "from transformers import BertTokenizer"
      ]
    },
    {
      "cell_type": "markdown",
      "metadata": {
        "id": "XmSx7KKUw4Yj"
      },
      "source": [
        "Veamos como codifica texto el BertTokenizer"
      ]
    },
    {
      "cell_type": "code",
      "execution_count": null,
      "metadata": {
        "id": "Ev_XBGZkw4Yk"
      },
      "outputs": [],
      "source": [
        "tokenizer = BertTokenizer.from_pretrained(\"bert-base-cased\")\n",
        "\n",
        "texto = \"a qué hora pasa el ciento siete\"\n",
        "tokens = tokenizer.tokenize(texto)"
      ]
    },
    {
      "cell_type": "code",
      "execution_count": null,
      "metadata": {
        "id": "co7upOFXw4Yk"
      },
      "outputs": [],
      "source": [
        "print(tokens)"
      ]
    },
    {
      "cell_type": "code",
      "execution_count": null,
      "metadata": {
        "id": "xl9bCznFw4Yk"
      },
      "outputs": [],
      "source": [
        "tokenizer.convert_tokens_to_ids(tokens)"
      ]
    },
    {
      "cell_type": "markdown",
      "source": [
        "Probando, un commit desde colab"
      ],
      "metadata": {
        "id": "YxZpYLN2w9Dw"
      }
    },
    {
      "cell_type": "markdown",
      "source": [
        "probando otro commit desde colab"
      ],
      "metadata": {
        "id": "6m73IzrwyexR"
      }
    },
    {
      "cell_type": "code",
      "source": [
        "vocales_con_acento_min = [chr(x) for x in [ord('á'), ord('é'), ord('í'), ord('ó'), ord('ú')]]\n",
        "vocales_con_acento_may = [chr(x) for x in [ord('Á'), ord('É'), ord('Í'), ord('Ó'), ord('Ú')]]\n",
        "allowed_characters = [chr(x) for x in range(97,123)] + vocales_con_acento_min + [chr(241)] + [chr(10), chr(32)] + [chr(x) for x in range(48,58)] # los caracteres de letras minúsculas, espacio en blanco y fin de linea y números\n",
        "characters_to_replace = [chr(x) for x in range(65,91)] + vocales_con_acento_may + [chr(209)] #las mayúsculas\n",
        "characters_to_replace_with = [chr(x) for x in range(97,123)] + vocales_con_acento_min + [chr(241)] #las minúsculas\n",
        "replace_dict = dict(zip(characters_to_replace, characters_to_replace_with))\n",
        "\n",
        "def limpiar_string (s) :\n",
        "  res = \"\"\n",
        "  for c in s :\n",
        "    if c in allowed_characters :\n",
        "      res += c\n",
        "    elif c in characters_to_replace :\n",
        "      res += replace_dict[c]\n",
        "  return res"
      ],
      "metadata": {
        "id": "Yq90a0UL6GA8"
      },
      "execution_count": null,
      "outputs": []
    },
    {
      "cell_type": "code",
      "source": [
        "test_limpieza = \"Veamos que pasa si cortamos un árbol ¿Será capaz de entender? El Árbol no sentirá el corte hasta que sea demaisado tarde: al buscar sus raices para nutrir las hojas, sentirá la desesperación de la falta.\" + '\\n' + '¡Ósado el talador, que se preocupa más por el calor de su morada que la protección que ofrece el bosque y la protección de todas sus criaturas contra el silencio verdadero!'\n",
        "print(test_limpieza)\n",
        "print('\\n')\n",
        "print(limpiar_string(test_limpieza))"
      ],
      "metadata": {
        "id": "WyL1p0Qd6cdN"
      },
      "execution_count": null,
      "outputs": []
    }
  ],
  "metadata": {
    "colab": {
      "provenance": []
    },
    "kernelspec": {
      "display_name": "Python 3",
      "language": "python",
      "name": "python3"
    },
    "language_info": {
      "codemirror_mode": {
        "name": "ipython",
        "version": 3
      },
      "file_extension": ".py",
      "mimetype": "text/x-python",
      "name": "python",
      "nbconvert_exporter": "python",
      "pygments_lexer": "ipython3",
      "version": "3.12.3"
    }
  },
  "nbformat": 4,
  "nbformat_minor": 0
}